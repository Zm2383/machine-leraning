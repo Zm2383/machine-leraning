{
 "cells": [
  {
   "cell_type": "markdown",
   "id": "361798bd",
   "metadata": {},
   "source": [
    "# 1. Import the spam dataset and print the first six rows.  "
   ]
  },
  {
   "cell_type": "code",
   "execution_count": 3,
   "id": "52b4cb9c",
   "metadata": {},
   "outputs": [],
   "source": [
    "import pandas as pd\n",
    "import numpy as np\n",
    "import statsmodels.api as sm\n",
    "import statsmodels.formula.api as smf\n",
    "import os\n",
    "import matplotlib as plt\n",
    "%matplotlib inline\n",
    "from scipy import stats"
   ]
  },
  {
   "cell_type": "code",
   "execution_count": 5,
   "id": "ee117970",
   "metadata": {},
   "outputs": [
    {
     "data": {
      "text/html": [
       "<div>\n",
       "<style scoped>\n",
       "    .dataframe tbody tr th:only-of-type {\n",
       "        vertical-align: middle;\n",
       "    }\n",
       "\n",
       "    .dataframe tbody tr th {\n",
       "        vertical-align: top;\n",
       "    }\n",
       "\n",
       "    .dataframe thead th {\n",
       "        text-align: right;\n",
       "    }\n",
       "</style>\n",
       "<table border=\"1\" class=\"dataframe\">\n",
       "  <thead>\n",
       "    <tr style=\"text-align: right;\">\n",
       "      <th></th>\n",
       "      <th>word_freq_make:</th>\n",
       "      <th>word_freq_address:</th>\n",
       "      <th>word_freq_all:</th>\n",
       "      <th>word_freq_3d:</th>\n",
       "      <th>word_freq_our:</th>\n",
       "      <th>word_freq_over:</th>\n",
       "      <th>word_freq_remove:</th>\n",
       "      <th>word_freq_internet:</th>\n",
       "      <th>word_freq_order:</th>\n",
       "      <th>word_freq_mail:</th>\n",
       "      <th>...</th>\n",
       "      <th>char_freq_;:</th>\n",
       "      <th>char_freq_(:</th>\n",
       "      <th>char_freq_[:</th>\n",
       "      <th>char_freq_!:</th>\n",
       "      <th>char_freq_$:</th>\n",
       "      <th>char_freq_#:</th>\n",
       "      <th>capital_run_length_average:</th>\n",
       "      <th>capital_run_length_longest:</th>\n",
       "      <th>capital_run_length_total:</th>\n",
       "      <th>spam</th>\n",
       "    </tr>\n",
       "  </thead>\n",
       "  <tbody>\n",
       "    <tr>\n",
       "      <th>0</th>\n",
       "      <td>0.00</td>\n",
       "      <td>0.64</td>\n",
       "      <td>0.64</td>\n",
       "      <td>0.0</td>\n",
       "      <td>0.32</td>\n",
       "      <td>0.00</td>\n",
       "      <td>0.00</td>\n",
       "      <td>0.00</td>\n",
       "      <td>0.00</td>\n",
       "      <td>0.00</td>\n",
       "      <td>...</td>\n",
       "      <td>0.00</td>\n",
       "      <td>0.000</td>\n",
       "      <td>0.0</td>\n",
       "      <td>0.778</td>\n",
       "      <td>0.000</td>\n",
       "      <td>0.000</td>\n",
       "      <td>3.756</td>\n",
       "      <td>61</td>\n",
       "      <td>278</td>\n",
       "      <td>1</td>\n",
       "    </tr>\n",
       "    <tr>\n",
       "      <th>1</th>\n",
       "      <td>0.21</td>\n",
       "      <td>0.28</td>\n",
       "      <td>0.50</td>\n",
       "      <td>0.0</td>\n",
       "      <td>0.14</td>\n",
       "      <td>0.28</td>\n",
       "      <td>0.21</td>\n",
       "      <td>0.07</td>\n",
       "      <td>0.00</td>\n",
       "      <td>0.94</td>\n",
       "      <td>...</td>\n",
       "      <td>0.00</td>\n",
       "      <td>0.132</td>\n",
       "      <td>0.0</td>\n",
       "      <td>0.372</td>\n",
       "      <td>0.180</td>\n",
       "      <td>0.048</td>\n",
       "      <td>5.114</td>\n",
       "      <td>101</td>\n",
       "      <td>1028</td>\n",
       "      <td>1</td>\n",
       "    </tr>\n",
       "    <tr>\n",
       "      <th>2</th>\n",
       "      <td>0.06</td>\n",
       "      <td>0.00</td>\n",
       "      <td>0.71</td>\n",
       "      <td>0.0</td>\n",
       "      <td>1.23</td>\n",
       "      <td>0.19</td>\n",
       "      <td>0.19</td>\n",
       "      <td>0.12</td>\n",
       "      <td>0.64</td>\n",
       "      <td>0.25</td>\n",
       "      <td>...</td>\n",
       "      <td>0.01</td>\n",
       "      <td>0.143</td>\n",
       "      <td>0.0</td>\n",
       "      <td>0.276</td>\n",
       "      <td>0.184</td>\n",
       "      <td>0.010</td>\n",
       "      <td>9.821</td>\n",
       "      <td>485</td>\n",
       "      <td>2259</td>\n",
       "      <td>1</td>\n",
       "    </tr>\n",
       "    <tr>\n",
       "      <th>3</th>\n",
       "      <td>0.00</td>\n",
       "      <td>0.00</td>\n",
       "      <td>0.00</td>\n",
       "      <td>0.0</td>\n",
       "      <td>0.63</td>\n",
       "      <td>0.00</td>\n",
       "      <td>0.31</td>\n",
       "      <td>0.63</td>\n",
       "      <td>0.31</td>\n",
       "      <td>0.63</td>\n",
       "      <td>...</td>\n",
       "      <td>0.00</td>\n",
       "      <td>0.137</td>\n",
       "      <td>0.0</td>\n",
       "      <td>0.137</td>\n",
       "      <td>0.000</td>\n",
       "      <td>0.000</td>\n",
       "      <td>3.537</td>\n",
       "      <td>40</td>\n",
       "      <td>191</td>\n",
       "      <td>1</td>\n",
       "    </tr>\n",
       "    <tr>\n",
       "      <th>4</th>\n",
       "      <td>0.00</td>\n",
       "      <td>0.00</td>\n",
       "      <td>0.00</td>\n",
       "      <td>0.0</td>\n",
       "      <td>0.63</td>\n",
       "      <td>0.00</td>\n",
       "      <td>0.31</td>\n",
       "      <td>0.63</td>\n",
       "      <td>0.31</td>\n",
       "      <td>0.63</td>\n",
       "      <td>...</td>\n",
       "      <td>0.00</td>\n",
       "      <td>0.135</td>\n",
       "      <td>0.0</td>\n",
       "      <td>0.135</td>\n",
       "      <td>0.000</td>\n",
       "      <td>0.000</td>\n",
       "      <td>3.537</td>\n",
       "      <td>40</td>\n",
       "      <td>191</td>\n",
       "      <td>1</td>\n",
       "    </tr>\n",
       "    <tr>\n",
       "      <th>5</th>\n",
       "      <td>0.00</td>\n",
       "      <td>0.00</td>\n",
       "      <td>0.00</td>\n",
       "      <td>0.0</td>\n",
       "      <td>1.85</td>\n",
       "      <td>0.00</td>\n",
       "      <td>0.00</td>\n",
       "      <td>1.85</td>\n",
       "      <td>0.00</td>\n",
       "      <td>0.00</td>\n",
       "      <td>...</td>\n",
       "      <td>0.00</td>\n",
       "      <td>0.223</td>\n",
       "      <td>0.0</td>\n",
       "      <td>0.000</td>\n",
       "      <td>0.000</td>\n",
       "      <td>0.000</td>\n",
       "      <td>3.000</td>\n",
       "      <td>15</td>\n",
       "      <td>54</td>\n",
       "      <td>1</td>\n",
       "    </tr>\n",
       "  </tbody>\n",
       "</table>\n",
       "<p>6 rows × 58 columns</p>\n",
       "</div>"
      ],
      "text/plain": [
       "   word_freq_make:  word_freq_address:  word_freq_all:  word_freq_3d:  \\\n",
       "0             0.00                0.64            0.64            0.0   \n",
       "1             0.21                0.28            0.50            0.0   \n",
       "2             0.06                0.00            0.71            0.0   \n",
       "3             0.00                0.00            0.00            0.0   \n",
       "4             0.00                0.00            0.00            0.0   \n",
       "5             0.00                0.00            0.00            0.0   \n",
       "\n",
       "   word_freq_our:  word_freq_over:  word_freq_remove:  word_freq_internet:  \\\n",
       "0            0.32             0.00               0.00                 0.00   \n",
       "1            0.14             0.28               0.21                 0.07   \n",
       "2            1.23             0.19               0.19                 0.12   \n",
       "3            0.63             0.00               0.31                 0.63   \n",
       "4            0.63             0.00               0.31                 0.63   \n",
       "5            1.85             0.00               0.00                 1.85   \n",
       "\n",
       "   word_freq_order:  word_freq_mail:  ...  char_freq_;:  char_freq_(:  \\\n",
       "0              0.00             0.00  ...          0.00         0.000   \n",
       "1              0.00             0.94  ...          0.00         0.132   \n",
       "2              0.64             0.25  ...          0.01         0.143   \n",
       "3              0.31             0.63  ...          0.00         0.137   \n",
       "4              0.31             0.63  ...          0.00         0.135   \n",
       "5              0.00             0.00  ...          0.00         0.223   \n",
       "\n",
       "   char_freq_[:  char_freq_!:  char_freq_$:  char_freq_#:  \\\n",
       "0           0.0         0.778         0.000         0.000   \n",
       "1           0.0         0.372         0.180         0.048   \n",
       "2           0.0         0.276         0.184         0.010   \n",
       "3           0.0         0.137         0.000         0.000   \n",
       "4           0.0         0.135         0.000         0.000   \n",
       "5           0.0         0.000         0.000         0.000   \n",
       "\n",
       "   capital_run_length_average:  capital_run_length_longest:  \\\n",
       "0                        3.756                           61   \n",
       "1                        5.114                          101   \n",
       "2                        9.821                          485   \n",
       "3                        3.537                           40   \n",
       "4                        3.537                           40   \n",
       "5                        3.000                           15   \n",
       "\n",
       "   capital_run_length_total:  spam  \n",
       "0                        278     1  \n",
       "1                       1028     1  \n",
       "2                       2259     1  \n",
       "3                        191     1  \n",
       "4                        191     1  \n",
       "5                         54     1  \n",
       "\n",
       "[6 rows x 58 columns]"
      ]
     },
     "execution_count": 5,
     "metadata": {},
     "output_type": "execute_result"
    }
   ],
   "source": [
    "os.chdir('/Users/apple/Downloads/')\n",
    "\n",
    "df= pd.read_csv('spam_dataset.csv')\n",
    "df.head(6)"
   ]
  },
  {
   "cell_type": "markdown",
   "id": "afe1f6cb",
   "metadata": {},
   "source": [
    "# 2.The dependent variable is \"spam\" where one indicates that an email is spam and zero otherwise.  Which three variables in the dataset do you think will be important predictors in a model of spam?  Why?"
   ]
  },
  {
   "cell_type": "markdown",
   "id": "5c2889bc",
   "metadata": {},
   "source": [
    "word_freq_free: Sometimes people are more likely to be attracted to any free things. But this can be a spam and people may be deceived into wasting money. So \"free\" can be predictor.\n",
    "word_freq_credit:Combined with their own experience, there are many spam applications for credit cards.\n",
    "word_freq_address: If emails say that your address should be provided, or mention any address requirement, it can be a spam. So it can be another predictor."
   ]
  },
  {
   "cell_type": "markdown",
   "id": "88304674",
   "metadata": {},
   "source": [
    "# 3. Visualize the univariate distribution of each of the variables in the previous question."
   ]
  },
  {
   "cell_type": "code",
   "execution_count": 6,
   "id": "de047dce",
   "metadata": {},
   "outputs": [
    {
     "data": {
      "text/plain": [
       "<AxesSubplot:>"
      ]
     },
     "execution_count": 6,
     "metadata": {},
     "output_type": "execute_result"
    },
    {
     "data": {
      "image/png": "[encoded data removed]",
      "text/plain": [
       "<Figure size 432x288 with 1 Axes>"
      ]
     },
     "metadata": {
      "needs_background": "light"
     },
     "output_type": "display_data"
    }
   ],
   "source": [
    "df['word_freq_address:'].hist()"
   ]
  },
  {
   "cell_type": "code",
   "execution_count": 7,
   "id": "ed6acb45",
   "metadata": {},
   "outputs": [
    {
     "data": {
      "text/plain": [
       "<AxesSubplot:>"
      ]
     },
     "execution_count": 7,
     "metadata": {},
     "output_type": "execute_result"
    },
    {
     "data": {
      "image/png": "[encoded data removed]",
      "text/plain": [
       "<Figure size 432x288 with 1 Axes>"
      ]
     },
     "metadata": {
      "needs_background": "light"
     },
     "output_type": "display_data"
    }
   ],
   "source": [
    "df['word_freq_credit:'].hist()"
   ]
  },
  {
   "cell_type": "code",
   "execution_count": 8,
   "id": "78185a4c",
   "metadata": {},
   "outputs": [
    {
     "data": {
      "text/plain": [
       "<AxesSubplot:>"
      ]
     },
     "execution_count": 8,
     "metadata": {},
     "output_type": "execute_result"
    },
    {
     "data": {
      "image/png": "[encoded data removed]",
      "text/plain": [
       "<Figure size 432x288 with 1 Axes>"
      ]
     },
     "metadata": {
      "needs_background": "light"
     },
     "output_type": "display_data"
    }
   ],
   "source": [
    "df['word_freq_free:'].hist()"
   ]
  },
  {
   "cell_type": "markdown",
   "id": "2febcdf6",
   "metadata": {},
   "source": [
    "# 4. Name each of the supervised learning models that we have learned thus far that are used to predict dependent variables like \"spam\".\n"
   ]
  },
  {
   "cell_type": "markdown",
   "id": "250404e4",
   "metadata": {},
   "source": [
    "Model: K Nearest Neighbors(KNN), logistic regression, penalized logistic regression, Support Vector Machines(SVM), decision tree, bagged trees, random forests"
   ]
  },
  {
   "cell_type": "markdown",
   "id": "92f01c90",
   "metadata": {},
   "source": [
    "# 5. Describe the importance of training and test data.  Why do we separate data into these subsets?"
   ]
  },
  {
   "cell_type": "markdown",
   "id": "14485500",
   "metadata": {},
   "source": [
    "The importance of training data: in machine learning, \"Training data is the main and most important data to help machine learn and make predictions. This training data set is used to develop algorithms and about 75% of the total data used in the project. Training algorithms are very important on training data sets that are separate and different from the test set, because we need to know the data set (model) Accuracy. Not using training data may lead to poor generalization ability. The reason for dividing the data into training data set and test data set is that we want to generate a training model, which can be used for new unknown data set (model) to predict the results."
   ]
  },
  {
   "cell_type": "markdown",
   "id": "46bb1f42",
   "metadata": {},
   "source": [
    "# 6. What is k-fold cross validation and what do we use it for?\n"
   ]
  },
  {
   "cell_type": "markdown",
   "id": "6acf86c5",
   "metadata": {},
   "source": [
    "K-fold cross validation is a resampling technique. \"This is to randomly divide the samples into k sets of approximately equal size. Fit the model with all samples except the first subset (called the first fold).\" The model is used to predict the retained samples and evaluate the performance indicators. The first subset is returned to the training set, the process repeats, the second subset remains unchanged, and so on. \"From textbook * application prediction modeling. What is the purpose of our use of it:\" summarize the K resampling estimates of performance (usually with mean and standard error) and use them to understand the relationship between tuning parameters and model practicability. We use k-folding cross validation as a program to estimate the skills of the model on new data. \""
   ]
  },
  {
   "cell_type": "markdown",
   "id": "c9291a52",
   "metadata": {},
   "source": [
    "# 7. How is k-fold cross validation different from stratified k-fold cross validation?"
   ]
  },
  {
   "cell_type": "markdown",
   "id": "e21913f6",
   "metadata": {},
   "source": [
    "Stratification is the process of rearranging data to ensure that each fold is a good representation of the whole. Layered folding is a variant of kfold. Hierarchical folding shuffles the data, and then splits the data into n_ Split part. Before splitting, it shuffles the data only and always once. Layering ensures that the relative class frequency ch fold in EA reflects the relative class frequency on the whole data set. Multiple use of stratified k-folding and random time can reduce the variance. Generally speaking, k-fold CV divides the data set into k folds, and hierarchical k-fold ensures that each fold of the data set has the same proportion of observations and has a given label. \""
   ]
  },
  {
   "cell_type": "markdown",
   "id": "f3eaa3ab",
   "metadata": {},
   "source": [
    "# 8. Choose one model from question four. Split the data into training and test subsets. Build a model with the three variables in the dataset that you think will be good predictors of \"spam\". Describe why you chose any particular parameters for your model (e.g.- if you used KNN how did you decide to choose a specific value for k). Run the model and evaluate prediction error in two ways: A) On test data directly and B) using k-fold cross-validation."
   ]
  },
  {
   "cell_type": "code",
   "execution_count": 9,
   "id": "2965cc27",
   "metadata": {},
   "outputs": [
    {
     "data": {
      "text/html": [
       "<div>\n",
       "<style scoped>\n",
       "    .dataframe tbody tr th:only-of-type {\n",
       "        vertical-align: middle;\n",
       "    }\n",
       "\n",
       "    .dataframe tbody tr th {\n",
       "        vertical-align: top;\n",
       "    }\n",
       "\n",
       "    .dataframe thead th {\n",
       "        text-align: right;\n",
       "    }\n",
       "</style>\n",
       "<table border=\"1\" class=\"dataframe\">\n",
       "  <thead>\n",
       "    <tr style=\"text-align: right;\">\n",
       "      <th></th>\n",
       "      <th>word_freq_credit:</th>\n",
       "      <th>word_freq_address:</th>\n",
       "      <th>word_freq_free:</th>\n",
       "      <th>spam:</th>\n",
       "    </tr>\n",
       "  </thead>\n",
       "  <tbody>\n",
       "    <tr>\n",
       "      <th>0</th>\n",
       "      <td>0.00</td>\n",
       "      <td>0.64</td>\n",
       "      <td>0.32</td>\n",
       "      <td>1</td>\n",
       "    </tr>\n",
       "    <tr>\n",
       "      <th>1</th>\n",
       "      <td>0.00</td>\n",
       "      <td>0.28</td>\n",
       "      <td>0.14</td>\n",
       "      <td>1</td>\n",
       "    </tr>\n",
       "    <tr>\n",
       "      <th>2</th>\n",
       "      <td>0.32</td>\n",
       "      <td>0.00</td>\n",
       "      <td>0.06</td>\n",
       "      <td>1</td>\n",
       "    </tr>\n",
       "    <tr>\n",
       "      <th>3</th>\n",
       "      <td>0.00</td>\n",
       "      <td>0.00</td>\n",
       "      <td>0.31</td>\n",
       "      <td>1</td>\n",
       "    </tr>\n",
       "    <tr>\n",
       "      <th>4</th>\n",
       "      <td>0.00</td>\n",
       "      <td>0.00</td>\n",
       "      <td>0.31</td>\n",
       "      <td>1</td>\n",
       "    </tr>\n",
       "  </tbody>\n",
       "</table>\n",
       "</div>"
      ],
      "text/plain": [
       "   word_freq_credit:  word_freq_address:  word_freq_free:  spam:\n",
       "0               0.00                0.64             0.32      1\n",
       "1               0.00                0.28             0.14      1\n",
       "2               0.32                0.00             0.06      1\n",
       "3               0.00                0.00             0.31      1\n",
       "4               0.00                0.00             0.31      1"
      ]
     },
     "execution_count": 9,
     "metadata": {},
     "output_type": "execute_result"
    }
   ],
   "source": [
    "df1 = df['word_freq_credit:']\n",
    "df2 = df['word_freq_address:']\n",
    "df3 = df['word_freq_free:']\n",
    "df4 = df['spam']\n",
    "\n",
    "predictors = pd.DataFrame(\n",
    "    {'word_freq_credit:': df1,\n",
    "     'word_freq_address:': df2,\n",
    "     'word_freq_free:': df3,\n",
    "     'spam:':df4\n",
    "    })\n",
    "predictors.head()"
   ]
  },
  {
   "cell_type": "markdown",
   "id": "35cfebe3",
   "metadata": {},
   "source": [
    "### The model I choose for this question: KNN model"
   ]
  },
  {
   "cell_type": "code",
   "execution_count": 10,
   "id": "8e3858f5",
   "metadata": {},
   "outputs": [],
   "source": [
    "from sklearn.model_selection import train_test_split\n",
    "from sklearn.model_selection import GridSearchCV\n",
    "from sklearn.model_selection import cross_val_score\n",
    "from sklearn.neighbors import KNeighborsClassifier\n",
    "from sklearn import preprocessing\n",
    "from sklearn.model_selection import KFold\n",
    "from sklearn.pipeline import make_pipeline\n",
    "from sklearn.preprocessing import StandardScaler"
   ]
  },
  {
   "cell_type": "code",
   "execution_count": 11,
   "id": "e50c1f30",
   "metadata": {},
   "outputs": [
    {
     "data": {
      "text/html": [
       "<div>\n",
       "<style scoped>\n",
       "    .dataframe tbody tr th:only-of-type {\n",
       "        vertical-align: middle;\n",
       "    }\n",
       "\n",
       "    .dataframe tbody tr th {\n",
       "        vertical-align: top;\n",
       "    }\n",
       "\n",
       "    .dataframe thead th {\n",
       "        text-align: right;\n",
       "    }\n",
       "</style>\n",
       "<table border=\"1\" class=\"dataframe\">\n",
       "  <thead>\n",
       "    <tr style=\"text-align: right;\">\n",
       "      <th></th>\n",
       "      <th>word_freq_credit:</th>\n",
       "      <th>word_freq_address:</th>\n",
       "      <th>word_freq_free:</th>\n",
       "    </tr>\n",
       "  </thead>\n",
       "  <tbody>\n",
       "    <tr>\n",
       "      <th>0</th>\n",
       "      <td>0.00</td>\n",
       "      <td>0.64</td>\n",
       "      <td>0.32</td>\n",
       "    </tr>\n",
       "    <tr>\n",
       "      <th>1</th>\n",
       "      <td>0.00</td>\n",
       "      <td>0.28</td>\n",
       "      <td>0.14</td>\n",
       "    </tr>\n",
       "    <tr>\n",
       "      <th>2</th>\n",
       "      <td>0.32</td>\n",
       "      <td>0.00</td>\n",
       "      <td>0.06</td>\n",
       "    </tr>\n",
       "    <tr>\n",
       "      <th>3</th>\n",
       "      <td>0.00</td>\n",
       "      <td>0.00</td>\n",
       "      <td>0.31</td>\n",
       "    </tr>\n",
       "    <tr>\n",
       "      <th>4</th>\n",
       "      <td>0.00</td>\n",
       "      <td>0.00</td>\n",
       "      <td>0.31</td>\n",
       "    </tr>\n",
       "  </tbody>\n",
       "</table>\n",
       "</div>"
      ],
      "text/plain": [
       "   word_freq_credit:  word_freq_address:  word_freq_free:\n",
       "0               0.00                0.64             0.32\n",
       "1               0.00                0.28             0.14\n",
       "2               0.32                0.00             0.06\n",
       "3               0.00                0.00             0.31\n",
       "4               0.00                0.00             0.31"
      ]
     },
     "execution_count": 11,
     "metadata": {},
     "output_type": "execute_result"
    }
   ],
   "source": [
    "# Split the data into training and test subsets\n",
    "\n",
    "y = predictors['spam:']\n",
    "X = predictors.loc[:, predictors.columns != 'spam:']\n",
    "\n",
    "X_train, X_test, y_train, y_test = train_test_split(X, y, random_state=42) \n",
    "X.head()"
   ]
  },
  {
   "cell_type": "code",
   "execution_count": 12,
   "id": "450a37c6",
   "metadata": {},
   "outputs": [
    {
     "name": "stdout",
     "output_type": "stream",
     "text": [
      "KNN for Classification (UNSCALED DATA)\n",
      "Training set score: 0.819\n",
      "Test set score: 0.789\n",
      "Mean Cross-Validation, Kfold: 0.794\n"
     ]
    }
   ],
   "source": [
    "# build a model with three variables (unscaled data)\n",
    "knn = KNeighborsClassifier()\n",
    "knn.fit(X_train, y_train)\n",
    "print(\"KNN for Classification (UNSCALED DATA)\")\n",
    "print(\"Training set score: {:.3f}\".format(knn.score(X_train, y_train)))\n",
    "print(\"Test set score: {:.3f}\".format(knn.score(X_test, y_test)))\n",
    "print(\"Mean Cross-Validation, Kfold: {:.3f}\".format(np.mean(cross_val_score(knn, X_train, y_train))))\n",
    "\n",
    "knn_unscaled = np.mean(cross_val_score(knn, X_train, y_train))"
   ]
  },
  {
   "cell_type": "code",
   "execution_count": 13,
   "id": "c280f1d8",
   "metadata": {},
   "outputs": [],
   "source": [
    "# Preprocessing data using StandardScalar\n",
    "scaler = preprocessing.StandardScaler().fit(X_train)\n",
    "X_train_scaled = scaler.transform(X_train)\n",
    "X_test_scaled = scaler.transform(X_test)"
   ]
  },
  {
   "cell_type": "code",
   "execution_count": 14,
   "id": "e901064f",
   "metadata": {},
   "outputs": [
    {
     "name": "stdout",
     "output_type": "stream",
     "text": [
      "KNN for Classification(SCALED DATA)\n",
      "Training set score: 0.819\n",
      "Test set score: 0.789\n",
      "Mean Cross-Validation, Kfold: 0.714\n"
     ]
    }
   ],
   "source": [
    "# Find score using scaled data\n",
    "knn = KNeighborsClassifier().fit(X_train_scaled, y_train)\n",
    "\n",
    "print(\"KNN for Classification(SCALED DATA)\")\n",
    "print(\"Training set score: {:.3f}\".format(knn.score(X_train_scaled, y_train)))\n",
    "print(\"Test set score: {:.3f}\".format(knn.score(X_test_scaled, y_test)))\n",
    "print(\"Mean Cross-Validation, Kfold: {:.3f}\".format(np.mean(cross_val_score(knn, X_train_scaled, y_train))))\n",
    "\n",
    "knn_scaled = np.mean(cross_val_score(knn, X_train_scaled, y_train))"
   ]
  },
  {
   "cell_type": "code",
   "execution_count": 15,
   "id": "735a060f",
   "metadata": {},
   "outputs": [
    {
     "name": "stdout",
     "output_type": "stream",
     "text": [
      "KNN for classification (SCALED DATA)\n",
      "Best Parameter: {'n_neighbors': 4}\n",
      "Best Cross-Validation Score: 0.779\n",
      "Test set Score: 0.775\n"
     ]
    }
   ],
   "source": [
    "#Tune parameters of the knn model and find a particular parameter\n",
    "\n",
    "knn_param_grid = {'n_neighbors': range(1, 10)}\n",
    "knn_grid = GridSearchCV(KNeighborsClassifier(), knn_param_grid).fit(X_train_scaled, y_train)\n",
    "\n",
    "print(\"KNN for classification (SCALED DATA)\")\n",
    "print(\"Best Parameter: {}\".format(knn_grid.best_params_))\n",
    "print(\"Best Cross-Validation Score: {:.3f}\".format(knn_grid.best_score_))\n",
    "print(\"Test set Score: {:.3f}\".format(knn_grid.score(X_test_scaled, y_test)))"
   ]
  },
  {
   "cell_type": "markdown",
   "id": "0d81ae52",
   "metadata": {},
   "source": [
    "### Best parameter for KNN is n_neighbors = 4 since it can product best cv score and test set score."
   ]
  },
  {
   "cell_type": "markdown",
   "id": "b6fd9cad",
   "metadata": {},
   "source": [
    "### Run the model and evaluate prediction error in two ways: A) On test data directly and B) using k-fold cross-validation."
   ]
  },
  {
   "cell_type": "code",
   "execution_count": 16,
   "id": "86fd37fc",
   "metadata": {},
   "outputs": [
    {
     "name": "stdout",
     "output_type": "stream",
     "text": [
      "KNN Test set score: 0.775\n"
     ]
    }
   ],
   "source": [
    "# On test data directly\n",
    "\n",
    "knn = KNeighborsClassifier(n_neighbors=4).fit(X_train_scaled, y_train)\n",
    "print(\"KNN Test set score: {:.3f}\".format(knn.score(X_test_scaled, y_test)))\n",
    "best_knn = knn.score(X_test_scaled, y_test)"
   ]
  },
  {
   "cell_type": "code",
   "execution_count": 18,
   "id": "af586f07",
   "metadata": {},
   "outputs": [
    {
     "name": "stdout",
     "output_type": "stream",
     "text": [
      "Mean Cross Validation, KFold: 0.779\n"
     ]
    }
   ],
   "source": [
    "# using k-fold cross-validation\n",
    "\n",
    "kfold = KFold(n_splits=5, shuffle=True)\n",
    "knn_param_grid = {'n_neighbors': range(1, 10)}\n",
    "knn_grid = GridSearchCV(KNeighborsClassifier(), knn_param_grid,cv=kfold).fit(X_train_scaled, y_train)\n",
    "print(\"Mean Cross Validation, KFold: {:.3f}\".format(np.mean(cross_val_score(knn, X_train_scaled, y_train))))"
   ]
  },
  {
   "cell_type": "markdown",
   "id": "d1bb48c3",
   "metadata": {},
   "source": [
    "# 9. Choose a second model from question four.  Using the same three variables in the dataset that you think will be good predictors of \"spam\".  Describe why you chose any particular parameters for your model (e.g.- if you used KNN how did you decide to choose a specific value for k).  Run the model and evaluate prediction error in two ways: A) On test data directly and B) using k-fold cross-validation.  Did this model predict test data better than your previous model?"
   ]
  },
  {
   "cell_type": "markdown",
   "id": "902b9d20",
   "metadata": {},
   "source": [
    "### The model I choose for this question: Decision Tree model"
   ]
  },
  {
   "cell_type": "code",
   "execution_count": 19,
   "id": "fc5bcace",
   "metadata": {},
   "outputs": [],
   "source": [
    "from sklearn.datasets import load_boston\n",
    "from sklearn.model_selection import cross_val_score\n",
    "from sklearn.tree import DecisionTreeRegressor\n",
    "from sklearn.tree import DecisionTreeClassifier\n",
    "from sklearn.datasets import make_blobs"
   ]
  },
  {
   "cell_type": "code",
   "execution_count": 20,
   "id": "e0568aeb",
   "metadata": {},
   "outputs": [
    {
     "name": "stdout",
     "output_type": "stream",
     "text": [
      "Training set score: 0.846\n",
      "Test set score: 0.785\n",
      "Mean Cross-Validation, Kfold: 0.783\n"
     ]
    }
   ],
   "source": [
    "# build a model with three variables\n",
    "\n",
    "DecTree = DecisionTreeClassifier()\n",
    "DecTree.fit(X_train, y_train)\n",
    "\n",
    "print(\"Training set score: {:.3f}\".format(DecTree.score(X_train, y_train)))\n",
    "print(\"Test set score: {:.3f}\".format(DecTree.score(X_test, y_test)))\n",
    "print(\"Mean Cross-Validation, Kfold: {:.3f}\".format(np.mean(cross_val_score(DecTree, X_train, y_train))))\n",
    "\n",
    "DecTree_data = np.mean(cross_val_score(DecTree, X_train, y_train))"
   ]
  },
  {
   "cell_type": "code",
   "execution_count": 21,
   "id": "2efd513c",
   "metadata": {},
   "outputs": [
    {
     "name": "stdout",
     "output_type": "stream",
     "text": [
      "Best Parameter Tree Size: {'max_depth': 5}\n",
      "Best Cross-Validation Score: 0.802\n",
      "Test set Score: 0.798\n"
     ]
    }
   ],
   "source": [
    "#Tune parameters of the decision tree model and find particular parameters\n",
    "\n",
    "DecTree_param_grid = {'max_depth': range(1, 50)}\n",
    "DecTree_grid = GridSearchCV(DecisionTreeClassifier(), DecTree_param_grid).fit(X_train, y_train)\n",
    "\n",
    "print(\"Best Parameter Tree Size: {}\".format(DecTree_grid.best_params_))\n",
    "print(\"Best Cross-Validation Score: {:.3f}\".format(DecTree_grid.best_score_))\n",
    "print(\"Test set Score: {:.3f}\".format(DecTree_grid.score(X_test, y_test)))"
   ]
  },
  {
   "cell_type": "markdown",
   "id": "c9f83c47",
   "metadata": {},
   "source": [
    "### Best parameter for Decision tree model is max_depth = 5 since it can product best cv score and test set score. "
   ]
  },
  {
   "cell_type": "markdown",
   "id": "d4205255",
   "metadata": {},
   "source": [
    "### Run the model and evaluate prediction error in two ways: A) On test data directly and B) using k-fold cross-validation. "
   ]
  },
  {
   "cell_type": "code",
   "execution_count": 22,
   "id": "7b020912",
   "metadata": {},
   "outputs": [
    {
     "name": "stdout",
     "output_type": "stream",
     "text": [
      "decision tree Test set score: 0.798\n"
     ]
    }
   ],
   "source": [
    "# On test data directly\n",
    "\n",
    "DecTree = DecisionTreeClassifier(max_depth=5).fit(X_train, y_train)\n",
    "print(\"decision tree Test set score: {:.3f}\".format(DecTree.score(X_test, y_test)))\n",
    "best_tree = DecTree.score(X_test, y_test)"
   ]
  },
  {
   "cell_type": "code",
   "execution_count": 23,
   "id": "2367ce17",
   "metadata": {},
   "outputs": [
    {
     "name": "stdout",
     "output_type": "stream",
     "text": [
      "Mean Cross Validation, KFold: 0.802\n"
     ]
    }
   ],
   "source": [
    "# using k-fold cross-validation\n",
    "\n",
    "kfold = KFold(n_splits=5, shuffle=True)\n",
    "DecTree_param_grid = {'max_depth': range(1, 10)}\n",
    "DecTree_grid = GridSearchCV(DecisionTreeClassifier(), DecTree_param_grid,cv=kfold).fit(X_train, y_train)\n",
    "print(\"Mean Cross Validation, KFold: {:.3f}\".format(np.mean(cross_val_score(DecTree, X_train, y_train))))"
   ]
  },
  {
   "cell_type": "markdown",
   "id": "2badd5f2",
   "metadata": {},
   "source": [
    "###  Did this model predict test data better than your previous model?\n",
    "\n",
    "The decision tree model predicts test data better that the previous model. The test score in KNN model is 0.775, while the test score in decision tree model is 0.798, which is higher. The k-fold cv score in KNN model is 0.779, while the test score in decision tree model is 0.802, which is higher. "
   ]
  },
  {
   "cell_type": "markdown",
   "id": "883b4b69",
   "metadata": {},
   "source": [
    "## 10. Choose a third model from question four.  Using the same three variables in the dataset that you think will be good predictors of \"spam\".  Describe why you chose any particular parameters for your model (e.g.- if you used KNN how did you decide to choose a specific value for k). Run the model and evaluate prediction error in two ways: A) On test data directly and B) using k-fold cross-validation.  Did this model predict test data better than your previous models?"
   ]
  },
  {
   "cell_type": "markdown",
   "id": "6ab737c2",
   "metadata": {},
   "source": [
    "### The model I choose for this question: logistic regression model"
   ]
  },
  {
   "cell_type": "code",
   "execution_count": 24,
   "id": "fda2a18d",
   "metadata": {},
   "outputs": [],
   "source": [
    "import warnings\n",
    "warnings.filterwarnings(\"ignore\")\n",
    "from sklearn.linear_model import LogisticRegression\n",
    "import numpy as np\n",
    "from sklearn.model_selection import cross_val_score\n",
    "from sklearn.preprocessing import StandardScaler"
   ]
  },
  {
   "cell_type": "code",
   "execution_count": 25,
   "id": "eef88de7",
   "metadata": {},
   "outputs": [
    {
     "name": "stdout",
     "output_type": "stream",
     "text": [
      "LOGISTIC REGRESSION (UNSCALED DATA)\n",
      "Training set score: 0.739\n",
      "Test set score: 0.729\n",
      "Mean Cross Validation, KFold: 0.739\n"
     ]
    }
   ],
   "source": [
    "#build a model with three variables (unscaled data)\n",
    "logreg = LogisticRegression(penalty = 'none').fit(X_train, y_train)\n",
    "\n",
    "print(\"LOGISTIC REGRESSION (UNSCALED DATA)\")\n",
    "print(\"Training set score: {:.3f}\".format(logreg.score(X_train, y_train)))\n",
    "print(\"Test set score: {:.3f}\".format(logreg.score(X_test, y_test)))\n",
    "print(\"Mean Cross Validation, KFold: {:.3f}\".format(np.mean(cross_val_score(logreg, X_train, y_train))))\n",
    "\n"
   ]
  },
  {
   "cell_type": "code",
   "execution_count": 26,
   "id": "d623ef3c",
   "metadata": {},
   "outputs": [
    {
     "name": "stdout",
     "output_type": "stream",
     "text": [
      "LOGISTIC REGRESSION (SCALED DATA)\n",
      "Best Parameter: {'C': 0.001}\n",
      "Best Cross-Validation Score: 0.739\n",
      "Test set Score: 0.729\n"
     ]
    }
   ],
   "source": [
    "# Tune parameters of the log model and find particular parameters\n",
    "\n",
    "logreg_param_grid = {'C': [0.001, 0.01, 0.1, 1, 10, 100, 1000]}\n",
    "logreg_grid = GridSearchCV(LogisticRegression(penalty='none'), logreg_param_grid).fit(X_train, y_train)\n",
    "\n",
    "print(\"LOGISTIC REGRESSION (SCALED DATA)\")\n",
    "print(\"Best Parameter: {}\".format(logreg_grid.best_params_))\n",
    "print(\"Best Cross-Validation Score: {:.3f}\".format(logreg_grid.best_score_))\n",
    "print(\"Test set Score: {:.3f}\".format(logreg_grid.score(X_test, y_test)))"
   ]
  },
  {
   "cell_type": "markdown",
   "id": "1cad11d6",
   "metadata": {},
   "source": [
    "### Best parameter for Logistic regression is C = 0.001 since it can produce best cv score and test set score. "
   ]
  },
  {
   "cell_type": "markdown",
   "id": "430b68fb",
   "metadata": {},
   "source": [
    "### Run the model and evaluate prediction error in two ways: A) On test data directly B) using k-fold cross validation"
   ]
  },
  {
   "cell_type": "code",
   "execution_count": 27,
   "id": "8a20ce49",
   "metadata": {},
   "outputs": [
    {
     "name": "stdout",
     "output_type": "stream",
     "text": [
      "log test set Score: 0.729\n"
     ]
    }
   ],
   "source": [
    "# On test data directly\n",
    "\n",
    "log = LogisticRegression(C=0.001,penalty = 'none').fit(X_train, y_train)\n",
    "print(\"log test set Score: {:.3f}\".format(log.score(X_test, y_test)))"
   ]
  },
  {
   "cell_type": "code",
   "execution_count": 28,
   "id": "eb4ad774",
   "metadata": {},
   "outputs": [
    {
     "name": "stdout",
     "output_type": "stream",
     "text": [
      "Mean Cross Validation, KFold: 0.739\n"
     ]
    }
   ],
   "source": [
    "# using k-fold cross-validation\n",
    "\n",
    "kfold = KFold(n_splits=5, shuffle=True)\n",
    "log_param_grid = {'C': [0.001, 0.01, 0.1, 1, 10, 100, 1000]}\n",
    "log_grid = GridSearchCV(LogisticRegression(), log_param_grid,cv=kfold).fit(X_train, y_train)\n",
    "print(\"Mean Cross Validation, KFold: {:.3f}\".format(np.mean(cross_val_score(log, X_train, y_train))))\n"
   ]
  },
  {
   "cell_type": "markdown",
   "id": "7299e7f4",
   "metadata": {},
   "source": [
    "###  Did this model predict test data better than your previous model?\n",
    "\n",
    "The logistic regression model doesn't predict test data better that the previous model. The test score in decision tree model is 0.798, while the test score in logistic regression model is 0.729, which is lower. The k-fold cv score in decision tree model is 0.802, while the test score in logistic regression model is 0.739, which is lower. "
   ]
  },
  {
   "cell_type": "markdown",
   "id": "31503bdb",
   "metadata": {},
   "source": [
    "## 11. Choose a fourth model from question four.  Using the same three variables in the dataset that you think will be good predictors of \"spam\".  Describe why you chose any particular parameters for your model (e.g.- if you used KNN how did you decide to choose a specific value for k). Run the model and evaluate prediction error in two ways: A) On test data directly and B) using k-fold cross-validation.  Did this model predict test data better than your previous models?"
   ]
  },
  {
   "cell_type": "markdown",
   "id": "25e689ba",
   "metadata": {},
   "source": [
    "### The model I choose for this question: Penalized logistic regression model"
   ]
  },
  {
   "cell_type": "code",
   "execution_count": 30,
   "id": "82d1b385",
   "metadata": {},
   "outputs": [
    {
     "name": "stdout",
     "output_type": "stream",
     "text": [
      "PENALIZED LOGISTIC REGRESSION - L1 (UNSCALED DATA)\n",
      "Training set score: 0.738\n",
      "Test set score: 0.727\n",
      "Mean Cross Validation, KFold: 0.738\n"
     ]
    }
   ],
   "source": [
    "# build a model with three variables (unscaled data)\n",
    "pen_logreg_l1 = LogisticRegression(penalty = 'l1', solver = 'liblinear').fit(X_train, y_train)\n",
    "\n",
    "print(\"PENALIZED LOGISTIC REGRESSION - L1 (UNSCALED DATA)\")\n",
    "print(\"Training set score: {:.3f}\".format(pen_logreg_l1.score(X_train, y_train)))\n",
    "print(\"Test set score: {:.3f}\".format(pen_logreg_l1.score(X_test, y_test)))\n",
    "print(\"Mean Cross Validation, KFold: {:.3f}\".format(np.mean(cross_val_score(pen_logreg_l1, X_train, y_train))))"
   ]
  },
  {
   "cell_type": "code",
   "execution_count": 32,
   "id": "e588ae11",
   "metadata": {},
   "outputs": [],
   "source": [
    "# preprocessing data using standardScalar\n",
    "\n",
    "scaler = StandardScaler().fit(X_train)\n",
    "X_train_scaled = scaler.transform(X_train)\n",
    "X_test_scaled = scaler.transform(X_test)"
   ]
  },
  {
   "cell_type": "code",
   "execution_count": 33,
   "id": "d7f19b14",
   "metadata": {},
   "outputs": [
    {
     "name": "stdout",
     "output_type": "stream",
     "text": [
      "PENALIZED LOGISTIC REGRESSION - L1 (SCALED DATA)\n",
      "Training set score: 0.739\n",
      "Test set score: 0.728\n",
      "Mean Cross Validation, KFold: 0.738\n"
     ]
    }
   ],
   "source": [
    "# Find score using scaled data\n",
    "\n",
    "pen_logreg_scaled_l1 = LogisticRegression(penalty = 'l1', solver = 'liblinear').fit(X_train_scaled, y_train)\n",
    "\n",
    "print(\"PENALIZED LOGISTIC REGRESSION - L1 (SCALED DATA)\")\n",
    "print(\"Training set score: {:.3f}\".format(pen_logreg_scaled_l1.score(X_train_scaled, y_train)))\n",
    "print(\"Test set score: {:.3f}\".format(pen_logreg_scaled_l1.score(X_test_scaled, y_test)))\n",
    "print(\"Mean Cross Validation, KFold: {:.3f}\".format(np.mean(cross_val_score(pen_logreg_scaled_l1, X_train, y_train))))"
   ]
  },
  {
   "cell_type": "code",
   "execution_count": 34,
   "id": "08499d53",
   "metadata": {},
   "outputs": [
    {
     "name": "stdout",
     "output_type": "stream",
     "text": [
      "PENLIZED LOGISTIC REGRESSION - L1 (SCALED DATA)\n",
      "Best Parameter: {'C': 10}\n",
      "Best Cross-Validation Score: 0.739\n",
      "Test set Score: 0.729\n"
     ]
    }
   ],
   "source": [
    "# Tune parameters of the penalized logistic regression model (L1) and find particular parameter\n",
    "\n",
    "pen_logreg_param_grid = {'C': [0.001, 0.01, 0.1, 1, 10, 100, 1000]}\n",
    "pen_logreg_grid_l1 = GridSearchCV(LogisticRegression(penalty='l1', solver = 'liblinear'), pen_logreg_param_grid).fit(X_train_scaled, y_train)\n",
    "\n",
    "print(\"PENLIZED LOGISTIC REGRESSION - L1 (SCALED DATA)\")\n",
    "print(\"Best Parameter: {}\".format(pen_logreg_grid_l1.best_params_))\n",
    "print(\"Best Cross-Validation Score: {:.3f}\".format(pen_logreg_grid_l1.best_score_))\n",
    "print(\"Test set Score: {:.3f}\".format(pen_logreg_grid_l1.score(X_test_scaled, y_test)))"
   ]
  },
  {
   "cell_type": "markdown",
   "id": "34609ac9",
   "metadata": {},
   "source": [
    "### Best parameter for penalized logistic regression model is  since it can product best cv score and test set score. "
   ]
  },
  {
   "cell_type": "markdown",
   "id": "c56f884b",
   "metadata": {},
   "source": [
    "### Run the model and evaluate prediction error in two ways: A) On test data directly and B) using k-fold cross-validation. "
   ]
  },
  {
   "cell_type": "code",
   "execution_count": 38,
   "id": "457439c7",
   "metadata": {},
   "outputs": [
    {
     "name": "stdout",
     "output_type": "stream",
     "text": [
      "log test set Score: 0.729\n"
     ]
    }
   ],
   "source": [
    "#On test data directly\n",
    "\n",
    "penlog = LogisticRegression(C=10,penalty = 'l1',solver = 'liblinear').fit(X_train_scaled, y_train)\n",
    "print(\"log test set Score: {:.3f}\".format(penlog.score(X_test_scaled, y_test)))"
   ]
  },
  {
   "cell_type": "code",
   "execution_count": 39,
   "id": "661baca4",
   "metadata": {},
   "outputs": [
    {
     "name": "stdout",
     "output_type": "stream",
     "text": [
      "Mean Cross Validation, KFold: 0.739\n"
     ]
    }
   ],
   "source": [
    "# using k-fold cross-validation\n",
    "\n",
    "kfold = KFold(n_splits=5, shuffle=True)\n",
    "penlog_param_grid = {'C': [0.001, 0.01, 0.1, 1, 10, 100, 1000]}\n",
    "penlog_grid = GridSearchCV(LogisticRegression(), penlog_param_grid,cv=kfold).fit(X_train_scaled, y_train)\n",
    "print(\"Mean Cross Validation, KFold: {:.3f}\".format(np.mean(cross_val_score(penlog, X_train_scaled, y_train))))"
   ]
  },
  {
   "cell_type": "markdown",
   "id": "e6689c1f",
   "metadata": {},
   "source": [
    "###  Did this model predict test data better than your previous model?\n",
    "\n",
    "Both penalized logistic regression model and log regression model without penalization have the same test set score and k-fold cross validation score. So this model doesn't predict data better than the previous model. "
   ]
  },
  {
   "cell_type": "markdown",
   "id": "9a0e0aa1",
   "metadata": {},
   "source": [
    "## 12. Now rerun your best model from questions 8 through 11, but this time add three new variables to the model that you think will increase prediction accuracy. Did this model predict test data better than your previous models?"
   ]
  },
  {
   "cell_type": "markdown",
   "id": "7a0ecb0d",
   "metadata": {},
   "source": [
    "### From questions 8-11, my best model would be the decision tree model. And I decide to add these three variables: word_freq_internet:, word_freq_mail, and word_freq_remove. "
   ]
  },
  {
   "cell_type": "code",
   "execution_count": 40,
   "id": "80a1ef1c",
   "metadata": {},
   "outputs": [],
   "source": [
    "df5 = df['word_freq_internet:']\n",
    "df6 = df['word_freq_mail:']\n",
    "df7 = df['word_freq_remove:']"
   ]
  },
  {
   "cell_type": "code",
   "execution_count": 41,
   "id": "98b8364b",
   "metadata": {},
   "outputs": [
    {
     "data": {
      "text/html": [
       "<div>\n",
       "<style scoped>\n",
       "    .dataframe tbody tr th:only-of-type {\n",
       "        vertical-align: middle;\n",
       "    }\n",
       "\n",
       "    .dataframe tbody tr th {\n",
       "        vertical-align: top;\n",
       "    }\n",
       "\n",
       "    .dataframe thead th {\n",
       "        text-align: right;\n",
       "    }\n",
       "</style>\n",
       "<table border=\"1\" class=\"dataframe\">\n",
       "  <thead>\n",
       "    <tr style=\"text-align: right;\">\n",
       "      <th></th>\n",
       "      <th>word_freq_money:</th>\n",
       "      <th>word_freq_address:</th>\n",
       "      <th>word_freq_free:</th>\n",
       "      <th>word_freq_internet:</th>\n",
       "      <th>word_freq_mail:</th>\n",
       "      <th>word_freq_remove:</th>\n",
       "      <th>spam:</th>\n",
       "    </tr>\n",
       "  </thead>\n",
       "  <tbody>\n",
       "    <tr>\n",
       "      <th>0</th>\n",
       "      <td>0.00</td>\n",
       "      <td>0.64</td>\n",
       "      <td>0.32</td>\n",
       "      <td>0.00</td>\n",
       "      <td>0.00</td>\n",
       "      <td>0.00</td>\n",
       "      <td>1</td>\n",
       "    </tr>\n",
       "    <tr>\n",
       "      <th>1</th>\n",
       "      <td>0.00</td>\n",
       "      <td>0.28</td>\n",
       "      <td>0.14</td>\n",
       "      <td>0.07</td>\n",
       "      <td>0.94</td>\n",
       "      <td>0.21</td>\n",
       "      <td>1</td>\n",
       "    </tr>\n",
       "    <tr>\n",
       "      <th>2</th>\n",
       "      <td>0.32</td>\n",
       "      <td>0.00</td>\n",
       "      <td>0.06</td>\n",
       "      <td>0.12</td>\n",
       "      <td>0.25</td>\n",
       "      <td>0.19</td>\n",
       "      <td>1</td>\n",
       "    </tr>\n",
       "    <tr>\n",
       "      <th>3</th>\n",
       "      <td>0.00</td>\n",
       "      <td>0.00</td>\n",
       "      <td>0.31</td>\n",
       "      <td>0.63</td>\n",
       "      <td>0.63</td>\n",
       "      <td>0.31</td>\n",
       "      <td>1</td>\n",
       "    </tr>\n",
       "    <tr>\n",
       "      <th>4</th>\n",
       "      <td>0.00</td>\n",
       "      <td>0.00</td>\n",
       "      <td>0.31</td>\n",
       "      <td>0.63</td>\n",
       "      <td>0.63</td>\n",
       "      <td>0.31</td>\n",
       "      <td>1</td>\n",
       "    </tr>\n",
       "  </tbody>\n",
       "</table>\n",
       "</div>"
      ],
      "text/plain": [
       "   word_freq_money:  word_freq_address:  word_freq_free:  word_freq_internet:  \\\n",
       "0              0.00                0.64             0.32                 0.00   \n",
       "1              0.00                0.28             0.14                 0.07   \n",
       "2              0.32                0.00             0.06                 0.12   \n",
       "3              0.00                0.00             0.31                 0.63   \n",
       "4              0.00                0.00             0.31                 0.63   \n",
       "\n",
       "   word_freq_mail:  word_freq_remove:  spam:  \n",
       "0             0.00               0.00      1  \n",
       "1             0.94               0.21      1  \n",
       "2             0.25               0.19      1  \n",
       "3             0.63               0.31      1  \n",
       "4             0.63               0.31      1  "
      ]
     },
     "execution_count": 41,
     "metadata": {},
     "output_type": "execute_result"
    }
   ],
   "source": [
    "new_model = pd.DataFrame(\n",
    "    {'word_freq_money:': df1,\n",
    "     'word_freq_address:': df2,\n",
    "     'word_freq_free:': df3,\n",
    "     'word_freq_internet:':df5,\n",
    "     'word_freq_mail:':df6,\n",
    "     'word_freq_remove:':df7,\n",
    "     'spam:':df4})\n",
    "new_model.head()"
   ]
  },
  {
   "cell_type": "code",
   "execution_count": 42,
   "id": "7307a961",
   "metadata": {},
   "outputs": [
    {
     "data": {
      "text/html": [
       "<div>\n",
       "<style scoped>\n",
       "    .dataframe tbody tr th:only-of-type {\n",
       "        vertical-align: middle;\n",
       "    }\n",
       "\n",
       "    .dataframe tbody tr th {\n",
       "        vertical-align: top;\n",
       "    }\n",
       "\n",
       "    .dataframe thead th {\n",
       "        text-align: right;\n",
       "    }\n",
       "</style>\n",
       "<table border=\"1\" class=\"dataframe\">\n",
       "  <thead>\n",
       "    <tr style=\"text-align: right;\">\n",
       "      <th></th>\n",
       "      <th>word_freq_money:</th>\n",
       "      <th>word_freq_address:</th>\n",
       "      <th>word_freq_free:</th>\n",
       "      <th>word_freq_internet:</th>\n",
       "      <th>word_freq_mail:</th>\n",
       "      <th>word_freq_remove:</th>\n",
       "    </tr>\n",
       "  </thead>\n",
       "  <tbody>\n",
       "    <tr>\n",
       "      <th>0</th>\n",
       "      <td>0.00</td>\n",
       "      <td>0.64</td>\n",
       "      <td>0.32</td>\n",
       "      <td>0.00</td>\n",
       "      <td>0.00</td>\n",
       "      <td>0.00</td>\n",
       "    </tr>\n",
       "    <tr>\n",
       "      <th>1</th>\n",
       "      <td>0.00</td>\n",
       "      <td>0.28</td>\n",
       "      <td>0.14</td>\n",
       "      <td>0.07</td>\n",
       "      <td>0.94</td>\n",
       "      <td>0.21</td>\n",
       "    </tr>\n",
       "    <tr>\n",
       "      <th>2</th>\n",
       "      <td>0.32</td>\n",
       "      <td>0.00</td>\n",
       "      <td>0.06</td>\n",
       "      <td>0.12</td>\n",
       "      <td>0.25</td>\n",
       "      <td>0.19</td>\n",
       "    </tr>\n",
       "    <tr>\n",
       "      <th>3</th>\n",
       "      <td>0.00</td>\n",
       "      <td>0.00</td>\n",
       "      <td>0.31</td>\n",
       "      <td>0.63</td>\n",
       "      <td>0.63</td>\n",
       "      <td>0.31</td>\n",
       "    </tr>\n",
       "    <tr>\n",
       "      <th>4</th>\n",
       "      <td>0.00</td>\n",
       "      <td>0.00</td>\n",
       "      <td>0.31</td>\n",
       "      <td>0.63</td>\n",
       "      <td>0.63</td>\n",
       "      <td>0.31</td>\n",
       "    </tr>\n",
       "  </tbody>\n",
       "</table>\n",
       "</div>"
      ],
      "text/plain": [
       "   word_freq_money:  word_freq_address:  word_freq_free:  word_freq_internet:  \\\n",
       "0              0.00                0.64             0.32                 0.00   \n",
       "1              0.00                0.28             0.14                 0.07   \n",
       "2              0.32                0.00             0.06                 0.12   \n",
       "3              0.00                0.00             0.31                 0.63   \n",
       "4              0.00                0.00             0.31                 0.63   \n",
       "\n",
       "   word_freq_mail:  word_freq_remove:  \n",
       "0             0.00               0.00  \n",
       "1             0.94               0.21  \n",
       "2             0.25               0.19  \n",
       "3             0.63               0.31  \n",
       "4             0.63               0.31  "
      ]
     },
     "execution_count": 42,
     "metadata": {},
     "output_type": "execute_result"
    }
   ],
   "source": [
    "# Split the data into training and test subsets\n",
    "\n",
    "y = new_model['spam:']\n",
    "X = new_model.loc[:, new_model.columns != 'spam:']\n",
    "\n",
    "X_train, X_test, y_train, y_test = train_test_split(X, y, random_state=42) \n",
    "X.head()"
   ]
  },
  {
   "cell_type": "code",
   "execution_count": 43,
   "id": "3551e031",
   "metadata": {},
   "outputs": [
    {
     "name": "stdout",
     "output_type": "stream",
     "text": [
      "Training set score: 0.929\n",
      "Test set score: 0.825\n",
      "Mean Cross-Validation, Kfold: 0.844\n"
     ]
    }
   ],
   "source": [
    "# build a model with six variables\n",
    "\n",
    "DecTree = DecisionTreeClassifier()\n",
    "DecTree.fit(X_train, y_train)\n",
    "\n",
    "print(\"Training set score: {:.3f}\".format(DecTree.score(X_train, y_train)))\n",
    "print(\"Test set score: {:.3f}\".format(DecTree.score(X_test, y_test)))\n",
    "print(\"Mean Cross-Validation, Kfold: {:.3f}\".format(np.mean(cross_val_score(DecTree, X_train, y_train))))\n",
    "\n",
    "DecTree_data = np.mean(cross_val_score(DecTree, X_train, y_train))"
   ]
  },
  {
   "cell_type": "code",
   "execution_count": 44,
   "id": "84660601",
   "metadata": {},
   "outputs": [
    {
     "name": "stdout",
     "output_type": "stream",
     "text": [
      "Best Parameter Tree Size: {'max_depth': 9}\n",
      "Best Cross-Validation Score: 0.850\n",
      "Test set Score: 0.831\n"
     ]
    }
   ],
   "source": [
    "#Tune parameters of the decision tree model and find particular parameters\n",
    "\n",
    "DecTree_param_grid = {'max_depth': range(1, 50)}\n",
    "DecTree_grid = GridSearchCV(DecisionTreeClassifier(), DecTree_param_grid).fit(X_train, y_train)\n",
    "\n",
    "print(\"Best Parameter Tree Size: {}\".format(DecTree_grid.best_params_))\n",
    "print(\"Best Cross-Validation Score: {:.3f}\".format(DecTree_grid.best_score_))\n",
    "print(\"Test set Score: {:.3f}\".format(DecTree_grid.score(X_test, y_test)))"
   ]
  },
  {
   "cell_type": "markdown",
   "id": "2297fe08",
   "metadata": {},
   "source": [
    "### Best parameter for Decision tree model is max_depth = 9 since it can product best cv score and test set score. "
   ]
  },
  {
   "cell_type": "markdown",
   "id": "aa3a0626",
   "metadata": {},
   "source": [
    "### Run the model and evaluate prediction error in two ways: A) On test data directly and B) using k-fold cross-validation. "
   ]
  },
  {
   "cell_type": "code",
   "execution_count": 45,
   "id": "8067c4bd",
   "metadata": {},
   "outputs": [
    {
     "name": "stdout",
     "output_type": "stream",
     "text": [
      "decision tree Test set score: 0.830\n"
     ]
    }
   ],
   "source": [
    "# On test data directly\n",
    "\n",
    "DecTree = DecisionTreeClassifier(max_depth=9).fit(X_train, y_train)\n",
    "print(\"decision tree Test set score: {:.3f}\".format(DecTree.score(X_test, y_test)))\n",
    "best_tree = DecTree.score(X_test, y_test)"
   ]
  },
  {
   "cell_type": "code",
   "execution_count": 46,
   "id": "cd2235b2",
   "metadata": {},
   "outputs": [
    {
     "name": "stdout",
     "output_type": "stream",
     "text": [
      "Mean Cross Validation, KFold: 0.848\n"
     ]
    }
   ],
   "source": [
    "# using k-fold cross-validation\n",
    "\n",
    "kfold = KFold(n_splits=5, shuffle=True)\n",
    "DecTree_param_grid = {'max_depth': range(1, 10)}\n",
    "DecTree_grid = GridSearchCV(DecisionTreeClassifier(), DecTree_param_grid,cv=kfold).fit(X_train, y_train)\n",
    "print(\"Mean Cross Validation, KFold: {:.3f}\".format(np.mean(cross_val_score(DecTree, X_train, y_train))))"
   ]
  },
  {
   "cell_type": "markdown",
   "id": "dd8f3241",
   "metadata": {},
   "source": [
    "### Did this model predict test data better than your previous models?\n",
    "\n",
    "Yes. By adding three new variables, the decision tree model has a larger test set score 0.830, while all the previous models have smaller test set score. Also the the new decision tree model has a larger cross-validation score 0.848, while all the previous models have smaller k-fold cv score."
   ]
  },
  {
   "cell_type": "markdown",
   "id": "e2605976",
   "metadata": {},
   "source": [
    "# 13. Rerun all your other models with this final set of six variables, evaluate prediction error, and choose a final model. Why did you select this model among all of the models that you ran?"
   ]
  },
  {
   "cell_type": "markdown",
   "id": "612cf626",
   "metadata": {},
   "source": [
    "### KNN model with six variables"
   ]
  },
  {
   "cell_type": "code",
   "execution_count": 47,
   "id": "5f4dbea6",
   "metadata": {},
   "outputs": [
    {
     "name": "stdout",
     "output_type": "stream",
     "text": [
      "KNN for Classification (UNSCALED DATA)\n",
      "Training set score: 0.877\n",
      "Test set score: 0.827\n",
      "Mean Cross-Validation, Kfold: 0.843\n",
      "KNN for Classification(SCALED DATA)\n",
      "Training set score: 0.877\n",
      "Test set score: 0.835\n",
      "Mean Cross-Validation, Kfold: 0.846\n",
      "KNN for classification (SCALED DATA)\n",
      "Best Parameter: {'n_neighbors': 3}\n",
      "Best Cross-Validation Score: 0.850\n",
      "Test set Score: 0.830\n",
      "KNN Test set score: 0.830\n",
      "Mean Cross Validation, KFold: 0.850\n"
     ]
    }
   ],
   "source": [
    "# build a model with three variables (unscaled data)\n",
    "knn = KNeighborsClassifier()\n",
    "knn.fit(X_train, y_train)\n",
    "print(\"KNN for Classification (UNSCALED DATA)\")\n",
    "print(\"Training set score: {:.3f}\".format(knn.score(X_train, y_train)))\n",
    "print(\"Test set score: {:.3f}\".format(knn.score(X_test, y_test)))\n",
    "print(\"Mean Cross-Validation, Kfold: {:.3f}\".format(np.mean(cross_val_score(knn, X_train, y_train))))\n",
    "\n",
    "knn_unscaled = np.mean(cross_val_score(knn, X_train, y_train))\n",
    "\n",
    "# Preprocessing data using StandardScalar\n",
    "scaler = preprocessing.StandardScaler().fit(X_train)\n",
    "X_train_scaled = scaler.transform(X_train)\n",
    "X_test_scaled = scaler.transform(X_test)\n",
    "\n",
    "# Find score using scaled data\n",
    "knn = KNeighborsClassifier().fit(X_train_scaled, y_train)\n",
    "\n",
    "print(\"KNN for Classification(SCALED DATA)\")\n",
    "print(\"Training set score: {:.3f}\".format(knn.score(X_train_scaled, y_train)))\n",
    "print(\"Test set score: {:.3f}\".format(knn.score(X_test_scaled, y_test)))\n",
    "print(\"Mean Cross-Validation, Kfold: {:.3f}\".format(np.mean(cross_val_score(knn, X_train_scaled, y_train))))\n",
    "\n",
    "knn_scaled = np.mean(cross_val_score(knn, X_train_scaled, y_train))\n",
    "\n",
    "#Tune parameters of the knn model and find a particular parameter\n",
    "\n",
    "knn_param_grid = {'n_neighbors': range(1, 10)}\n",
    "knn_grid = GridSearchCV(KNeighborsClassifier(), knn_param_grid).fit(X_train_scaled, y_train)\n",
    "\n",
    "print(\"KNN for classification (SCALED DATA)\")\n",
    "print(\"Best Parameter: {}\".format(knn_grid.best_params_))\n",
    "print(\"Best Cross-Validation Score: {:.3f}\".format(knn_grid.best_score_))\n",
    "print(\"Test set Score: {:.3f}\".format(knn_grid.score(X_test_scaled, y_test)))\n",
    "\n",
    "# On test data directly\n",
    "\n",
    "knn = KNeighborsClassifier(n_neighbors=3).fit(X_train_scaled, y_train)\n",
    "print(\"KNN Test set score: {:.3f}\".format(knn.score(X_test_scaled, y_test)))\n",
    "best_knn = knn.score(X_test_scaled, y_test)\n",
    "\n",
    "# using k-fold cross-validation\n",
    "\n",
    "kfold = KFold(n_splits=5, shuffle=True)\n",
    "knn_param_grid = {'n_neighbors': range(1, 10)}\n",
    "knn_grid = GridSearchCV(KNeighborsClassifier(), knn_param_grid,cv=kfold).fit(X_train_scaled, y_train)\n",
    "print(\"Mean Cross Validation, KFold: {:.3f}\".format(np.mean(cross_val_score(knn, X_train_scaled, y_train))))"
   ]
  },
  {
   "cell_type": "markdown",
   "id": "6713aeb4",
   "metadata": {},
   "source": [
    "### Logistic regression model with six variables"
   ]
  },
  {
   "cell_type": "code",
   "execution_count": 48,
   "id": "337fda8e",
   "metadata": {},
   "outputs": [
    {
     "name": "stdout",
     "output_type": "stream",
     "text": [
      "LOGISTIC REGRESSION (UNSCALED DATA)\n",
      "Training set score: 0.795\n",
      "Test set score: 0.790\n",
      "Mean Cross Validation, KFold: 0.796\n",
      "LOGISTIC REGRESSION (SCALED DATA)\n",
      "Best Parameter: {'C': 0.001}\n",
      "Best Cross-Validation Score: 0.796\n",
      "Test set Score: 0.790\n",
      "log test set Score: 0.790\n",
      "Mean Cross Validation, KFold: 0.796\n"
     ]
    }
   ],
   "source": [
    "#build a model with three variables (unscaled data)\n",
    "logreg = LogisticRegression(penalty = 'none').fit(X_train, y_train)\n",
    "\n",
    "print(\"LOGISTIC REGRESSION (UNSCALED DATA)\")\n",
    "print(\"Training set score: {:.3f}\".format(logreg.score(X_train, y_train)))\n",
    "print(\"Test set score: {:.3f}\".format(logreg.score(X_test, y_test)))\n",
    "print(\"Mean Cross Validation, KFold: {:.3f}\".format(np.mean(cross_val_score(logreg, X_train, y_train))))\n",
    "\n",
    "# Tune parameters of the log model and find particular parameters\n",
    "\n",
    "logreg_param_grid = {'C': [0.001, 0.01, 0.1, 1, 10, 100, 1000]}\n",
    "logreg_grid = GridSearchCV(LogisticRegression(penalty='none'), logreg_param_grid).fit(X_train, y_train)\n",
    "\n",
    "print(\"LOGISTIC REGRESSION (SCALED DATA)\")\n",
    "print(\"Best Parameter: {}\".format(logreg_grid.best_params_))\n",
    "print(\"Best Cross-Validation Score: {:.3f}\".format(logreg_grid.best_score_))\n",
    "print(\"Test set Score: {:.3f}\".format(logreg_grid.score(X_test, y_test)))\n",
    "\n",
    "# On test data directly\n",
    "\n",
    "log = LogisticRegression(C=0.001,penalty = 'none').fit(X_train, y_train)\n",
    "print(\"log test set Score: {:.3f}\".format(log.score(X_test, y_test)))\n",
    "\n",
    "# using k-fold cross-validation\n",
    "\n",
    "kfold = KFold(n_splits=5, shuffle=True)\n",
    "log_param_grid = {'C': [0.001, 0.01, 0.1, 1, 10, 100, 1000]}\n",
    "log_grid = GridSearchCV(LogisticRegression(), log_param_grid,cv=kfold).fit(X_train, y_train)\n",
    "print(\"Mean Cross Validation, KFold: {:.3f}\".format(np.mean(cross_val_score(log, X_train, y_train))))"
   ]
  },
  {
   "cell_type": "markdown",
   "id": "8375f1cf",
   "metadata": {},
   "source": [
    "### Penalized Logistic regression model with six variables"
   ]
  },
  {
   "cell_type": "code",
   "execution_count": 49,
   "id": "637d58cc",
   "metadata": {},
   "outputs": [
    {
     "name": "stdout",
     "output_type": "stream",
     "text": [
      "PENALIZED LOGISTIC REGRESSION - L1 (UNSCALED DATA)\n",
      "Training set score: 0.795\n",
      "Test set score: 0.790\n",
      "Mean Cross Validation, KFold: 0.795\n",
      "PENALIZED LOGISTIC REGRESSION - L1 (SCALED DATA)\n",
      "Training set score: 0.795\n",
      "Test set score: 0.790\n",
      "Mean Cross Validation, KFold: 0.795\n",
      "PENLIZED LOGISTIC REGRESSION - L1 (SCALED DATA)\n",
      "Best Parameter: {'C': 10}\n",
      "Best Cross-Validation Score: 0.796\n",
      "Test set Score: 0.790\n",
      "penlog test set Score: 0.790\n",
      "Mean Cross Validation, KFold: 0.796\n"
     ]
    }
   ],
   "source": [
    "# build a model with three variables (unscaled data)\n",
    "pen_logreg_l1 = LogisticRegression(penalty = 'l1', solver = 'liblinear').fit(X_train, y_train)\n",
    "\n",
    "print(\"PENALIZED LOGISTIC REGRESSION - L1 (UNSCALED DATA)\")\n",
    "print(\"Training set score: {:.3f}\".format(pen_logreg_l1.score(X_train, y_train)))\n",
    "print(\"Test set score: {:.3f}\".format(pen_logreg_l1.score(X_test, y_test)))\n",
    "print(\"Mean Cross Validation, KFold: {:.3f}\".format(np.mean(cross_val_score(pen_logreg_l1, X_train, y_train))))\n",
    "\n",
    "# preprocessing data using standardScalar\n",
    "\n",
    "scaler = StandardScaler().fit(X_train)\n",
    "X_train_scaled = scaler.transform(X_train)\n",
    "X_test_scaled = scaler.transform(X_test)\n",
    "\n",
    "\n",
    "# Find score using scaled data\n",
    "\n",
    "pen_logreg_scaled_l1 = LogisticRegression(penalty = 'l1', solver = 'liblinear').fit(X_train_scaled, y_train)\n",
    "\n",
    "print(\"PENALIZED LOGISTIC REGRESSION - L1 (SCALED DATA)\")\n",
    "print(\"Training set score: {:.3f}\".format(pen_logreg_scaled_l1.score(X_train_scaled, y_train)))\n",
    "print(\"Test set score: {:.3f}\".format(pen_logreg_scaled_l1.score(X_test_scaled, y_test)))\n",
    "print(\"Mean Cross Validation, KFold: {:.3f}\".format(np.mean(cross_val_score(pen_logreg_scaled_l1, X_train, y_train))))\n",
    "\n",
    "# Tune parameters of the penalized logistic regression model (L1) and find particular parameter\n",
    "\n",
    "pen_logreg_param_grid = {'C': [0.001, 0.01, 0.1, 1, 10, 100, 1000]}\n",
    "pen_logreg_grid_l1 = GridSearchCV(LogisticRegression(penalty='l1', solver = 'liblinear'), pen_logreg_param_grid).fit(X_train_scaled, y_train)\n",
    "\n",
    "print(\"PENLIZED LOGISTIC REGRESSION - L1 (SCALED DATA)\")\n",
    "print(\"Best Parameter: {}\".format(pen_logreg_grid_l1.best_params_))\n",
    "print(\"Best Cross-Validation Score: {:.3f}\".format(pen_logreg_grid_l1.best_score_))\n",
    "print(\"Test set Score: {:.3f}\".format(pen_logreg_grid_l1.score(X_test_scaled, y_test)))\n",
    "\n",
    "\n",
    "#On test data directly\n",
    "\n",
    "penlog = LogisticRegression(C=1,penalty = 'l1',solver = 'liblinear').fit(X_train_scaled, y_train)\n",
    "print(\"penlog test set Score: {:.3f}\".format(penlog.score(X_test_scaled, y_test)))\n",
    "\n",
    "# using k-fold cross-validation\n",
    "\n",
    "kfold = KFold(n_splits=5, shuffle=True)\n",
    "penlog_param_grid = {'C': [0.001, 0.01, 0.1, 1, 10, 100, 1000]}\n",
    "penlog_grid = GridSearchCV(LogisticRegression(), penlog_param_grid,cv=kfold).fit(X_train_scaled, y_train)\n",
    "print(\"Mean Cross Validation, KFold: {:.3f}\".format(np.mean(cross_val_score(penlog, X_train_scaled, y_train))))\n"
   ]
  },
  {
   "cell_type": "markdown",
   "id": "e5b5640b",
   "metadata": {},
   "source": [
    "### I still choose the decision tree model since it has the highest cross-validation score 0.848 among all the four models."
   ]
  },
  {
   "cell_type": "markdown",
   "id": "cb228c00",
   "metadata": {},
   "source": [
    "# 14. What variable that currently is not in your model, if included, would be likely to increase your final model's predictive power?  For this answer try to speculate about a variable outside the variables available in the data that would improve your model."
   ]
  },
  {
   "cell_type": "markdown",
   "id": "e0ecd135",
   "metadata": {},
   "source": [
    "I may likely add word_freq_money to increase my final model's. If there is any email that asks us to send money and tell us that we can get money easily, the email may be a spam. So it can be a predictor."
   ]
  },
  {
   "cell_type": "markdown",
   "id": "169a0e8b",
   "metadata": {},
   "source": [
    "## 15. Lastly, you have listed each of the models that we have learned to use to predict dependent variables like spam.  List each model we have focused on in class thus far that you could use to evaluate data with a continuous dependent variable. "
   ]
  },
  {
   "cell_type": "markdown",
   "id": "a45955ab",
   "metadata": {},
   "source": [
    "KNN regression model, linear regression model, Ridge regression, Lasso regression, Support Vector Machines(SVM), random forests "
   ]
  },
  {
   "cell_type": "code",
   "execution_count": null,
   "id": "1bd3a30b",
   "metadata": {},
   "outputs": [],
   "source": []
  },
  {
   "cell_type": "code",
   "execution_count": null,
   "id": "bee0bc14",
   "metadata": {},
   "outputs": [],
   "source": []
  },
  {
   "cell_type": "code",
   "execution_count": null,
   "id": "b2124931",
   "metadata": {},
   "outputs": [],
   "source": []
  },
  {
   "cell_type": "code",
   "execution_count": null,
   "id": "b31b687c",
   "metadata": {},
   "outputs": [],
   "source": []
  },
  {
   "cell_type": "code",
   "execution_count": null,
   "id": "71904416",
   "metadata": {},
   "outputs": [],
   "source": []
  },
  {
   "cell_type": "code",
   "execution_count": null,
   "id": "03d6fab4",
   "metadata": {},
   "outputs": [],
   "source": []
  },
  {
   "cell_type": "code",
   "execution_count": null,
   "id": "f6f0981d",
   "metadata": {},
   "outputs": [],
   "source": []
  },
  {
   "cell_type": "code",
   "execution_count": null,
   "id": "a84a9405",
   "metadata": {},
   "outputs": [],
   "source": []
  },
  {
   "cell_type": "code",
   "execution_count": null,
   "id": "91f0e9fa",
   "metadata": {},
   "outputs": [],
   "source": []
  }
 ],
 "metadata": {
  "kernelspec": {
   "display_name": "Python 3",
   "language": "python",
   "name": "python3"
  },
  "language_info": {
   "codemirror_mode": {
    "name": "ipython",
    "version": 3
   },
   "file_extension": ".py",
   "mimetype": "text/x-python",
   "name": "python",
   "nbconvert_exporter": "python",
   "pygments_lexer": "ipython3",
   "version": "3.8.8"
  }
 },
 "nbformat": 4,
 "nbformat_minor": 5
}
